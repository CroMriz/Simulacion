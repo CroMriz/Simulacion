{
 "cells": [
  {
   "cell_type": "code",
   "execution_count": null,
   "id": "f0fb1963-d656-441e-a624-9ddc8207c11b",
   "metadata": {},
   "outputs": [],
   "source": []
  }
 ],
 "metadata": {
  "kernelspec": {
   "display_name": "",
   "name": ""
  },
  "language_info": {
   "name": ""
  }
 },
 "nbformat": 4,
 "nbformat_minor": 5
}
