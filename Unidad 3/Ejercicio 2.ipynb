{
 "cells": [
  {
   "cell_type": "code",
   "execution_count": null,
   "id": "f933f5bf-75a1-4294-a301-aae43db090f5",
   "metadata": {},
   "outputs": [],
   "source": []
  }
 ],
 "metadata": {
  "kernelspec": {
   "display_name": "",
   "name": ""
  },
  "language_info": {
   "name": ""
  }
 },
 "nbformat": 4,
 "nbformat_minor": 5
}
