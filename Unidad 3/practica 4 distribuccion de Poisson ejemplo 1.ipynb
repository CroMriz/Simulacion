{
 "cells": [
  {
   "cell_type": "code",
   "execution_count": 2,
   "id": "d6ff0e09-38c9-4b56-a03a-b8bacdfdfabe",
   "metadata": {},
   "outputs": [
    {
     "ename": "NameError",
     "evalue": "name 'math' is not defined",
     "output_type": "error",
     "traceback": [
      "\u001b[1;31m---------------------------------------------------------------------------\u001b[0m",
      "\u001b[1;31mNameError\u001b[0m                                 Traceback (most recent call last)",
      "Cell \u001b[1;32mIn[2], line 15\u001b[0m\n\u001b[0;32m     12\u001b[0m         F_k \u001b[38;5;241m+\u001b[39m\u001b[38;5;241m=\u001b[39m (lambda_poisson\u001b[38;5;241m*\u001b[39m\u001b[38;5;241m*\u001b[39mk \u001b[38;5;241m*\u001b[39m np\u001b[38;5;241m.\u001b[39mexp(\u001b[38;5;241m-\u001b[39mlambda_poisson)) \u001b[38;5;241m/\u001b[39m math\u001b[38;5;241m.\u001b[39mfactorial(k)\n\u001b[0;32m     13\u001b[0m     \u001b[38;5;28;01mreturn\u001b[39;00m k\n\u001b[1;32m---> 15\u001b[0m demanda_simulada \u001b[38;5;241m=\u001b[39m [\u001b[43mpoisson_inverse_transform\u001b[49m\u001b[43m(\u001b[49m\u001b[43mlambda_poisson\u001b[49m\u001b[43m,\u001b[49m\u001b[43m \u001b[49m\u001b[43mu\u001b[49m\u001b[43m)\u001b[49m \u001b[38;5;28;01mfor\u001b[39;00m u \u001b[38;5;129;01min\u001b[39;00m U]\n\u001b[0;32m     16\u001b[0m \u001b[38;5;28mprint\u001b[39m(\u001b[38;5;124m\"\u001b[39m\u001b[38;5;124mDemanda diaria simulada:\u001b[39m\u001b[38;5;124m\"\u001b[39m, demanda_simulada)\n\u001b[0;32m     17\u001b[0m plt\u001b[38;5;241m.\u001b[39mhist(demanda_simulada, bins\u001b[38;5;241m=\u001b[39mnp\u001b[38;5;241m.\u001b[39marange(\u001b[38;5;241m0\u001b[39m, \u001b[38;5;28mmax\u001b[39m(demanda_simulada) \u001b[38;5;241m+\u001b[39m \u001b[38;5;241m1\u001b[39m) \u001b[38;5;241m-\u001b[39m \u001b[38;5;241m0.5\u001b[39m, edgecolor\u001b[38;5;241m=\u001b[39m\u001b[38;5;124m'\u001b[39m\u001b[38;5;124mblack\u001b[39m\u001b[38;5;124m'\u001b[39m, density\u001b[38;5;241m=\u001b[39m\u001b[38;5;28;01mTrue\u001b[39;00m)\n",
      "Cell \u001b[1;32mIn[2], line 12\u001b[0m, in \u001b[0;36mpoisson_inverse_transform\u001b[1;34m(lambda_poisson, U)\u001b[0m\n\u001b[0;32m     10\u001b[0m \u001b[38;5;28;01mwhile\u001b[39;00m U \u001b[38;5;241m>\u001b[39m F_k:\n\u001b[0;32m     11\u001b[0m     k \u001b[38;5;241m+\u001b[39m\u001b[38;5;241m=\u001b[39m \u001b[38;5;241m1\u001b[39m\n\u001b[1;32m---> 12\u001b[0m     F_k \u001b[38;5;241m+\u001b[39m\u001b[38;5;241m=\u001b[39m (lambda_poisson\u001b[38;5;241m*\u001b[39m\u001b[38;5;241m*\u001b[39mk \u001b[38;5;241m*\u001b[39m np\u001b[38;5;241m.\u001b[39mexp(\u001b[38;5;241m-\u001b[39mlambda_poisson)) \u001b[38;5;241m/\u001b[39m \u001b[43mmath\u001b[49m\u001b[38;5;241m.\u001b[39mfactorial(k)\n\u001b[0;32m     13\u001b[0m \u001b[38;5;28;01mreturn\u001b[39;00m k\n",
      "\u001b[1;31mNameError\u001b[0m: name 'math' is not defined"
     ]
    }
   ],
   "source": [
    "import numpy as np\n",
    "import matplotlib.pyplot as plt\n",
    "\n",
    "lambda_poisson = 5 \n",
    "n = 100 \n",
    "U = np.random.uniform(0, 1, n)\n",
    "def poisson_inverse_transform(lambda_poisson, U):\n",
    "    k = 0\n",
    "    F_k = np.exp(-lambda_poisson) \n",
    "    while U > F_k:\n",
    "        k += 1\n",
    "        F_k += (lambda_poisson**k * np.exp(-lambda_poisson)) / math.factorial(k)\n",
    "    return k\n",
    "\n",
    "demanda_simulada = [poisson_inverse_transform(lambda_poisson, u) for u in U]\n",
    "print(\"Demanda diaria simulada:\", demanda_simulada)\n",
    "plt.hist(demanda_simulada, bins=np.arange(0, max(demanda_simulada) + 1) - 0.5, edgecolor='black', density=True)\n",
    "plt.title(\"Simulación de demanda diaria (Distribución Poisson)\")\n",
    "plt.xlabel(\"Número de productos demandados\")\n",
    "plt.ylabel(\"Frecuencia\")\n",
    "plt.show()"
   ]
  },
  {
   "cell_type": "code",
   "execution_count": null,
   "id": "678c0b7c-963d-4609-970d-2b30376300ac",
   "metadata": {},
   "outputs": [],
   "source": []
  }
 ],
 "metadata": {
  "kernelspec": {
   "display_name": "Python 3 (ipykernel)",
   "language": "python",
   "name": "python3"
  },
  "language_info": {
   "codemirror_mode": {
    "name": "ipython",
    "version": 3
   },
   "file_extension": ".py",
   "mimetype": "text/x-python",
   "name": "python",
   "nbconvert_exporter": "python",
   "pygments_lexer": "ipython3",
   "version": "3.12.2"
  }
 },
 "nbformat": 4,
 "nbformat_minor": 5
}
