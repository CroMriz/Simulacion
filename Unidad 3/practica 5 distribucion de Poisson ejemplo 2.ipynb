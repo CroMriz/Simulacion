{
 "cells": [
  {
   "cell_type": "code",
   "execution_count": null,
   "id": "da2050cc-ddec-43f3-976e-36857903a099",
   "metadata": {},
   "outputs": [],
   "source": [
    "import numpy as np\n",
    "import matplotlib.pyplot as plt\n",
    "import math\n",
    "\n",
    "# Parámetro de la distribución Poisson\n",
    "lambda_poisson = 5  # Tasa promedio de llegadas por hora\n",
    "\n",
    "# Generar un número aleatorio uniforme U ~ Uniform(0, 1)\n",
    "num_simulaciones = 100  # Número de simulaciones (horas)\n",
    "U = np.random.uniform(0, 1, num_simulaciones)\n",
    "\n",
    "# Función de probabilidad de la distribución Poisson\n",
    "def poisson_pmf(lambda_poisson, k):\n",
    "    return (lambda_poisson ** k) * math.exp(-lambda_poisson) / math.factorial(k)\n",
    "\n",
    "# Función para generar números aleatorios usando la transformada inversa para la Poisson\n",
    "def poisson_inverse_transform(lambda_poisson, U):\n",
    "    F_k = 0  \n",
    "    k = 0\n",
    "    while True:\n",
    "        F_k += poisson_pmf(lambda_poisson, k) \n",
    "        if U <= F_k:\n",
    "            return k \n",
    "        k += 1\n",
    "llegadas_simuladas = [poisson_inverse_transform(lambda_poisson, u) for u in U]\n",
    "\n",
    "print(\"Número de clientes que llegaron en cada simulación (hora):\")\n",
    "print(llegadas_simuladas)\n",
    "plt.hist(llegadas_simuladas, bins=np.arange(min(llegadas_simuladas), max(llegadas_simuladas) + 1) - 0.5, edgecolor='black')\n",
    "plt.title(\"Simulación de llegadas de clientes (Distribución Poisson)\")\n",
    "plt.xlabel(\"Número de clientes por hora\")\n",
    "plt.ylabel(\"Frecuencia\")\n",
    "plt.show()"
   ]
  }
 ],
 "metadata": {
  "kernelspec": {
   "display_name": "Python 3 (ipykernel)",
   "language": "python",
   "name": "python3"
  },
  "language_info": {
   "codemirror_mode": {
    "name": "ipython",
    "version": 3
   },
   "file_extension": ".py",
   "mimetype": "text/x-python",
   "name": "python",
   "nbconvert_exporter": "python",
   "pygments_lexer": "ipython3",
   "version": "3.12.2"
  }
 },
 "nbformat": 4,
 "nbformat_minor": 5
}
