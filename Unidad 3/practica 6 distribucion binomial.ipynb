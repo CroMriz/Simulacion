{
 "cells": [
  {
   "cell_type": "code",
   "execution_count": null,
   "id": "e68ab49d-6b78-417f-b6bb-2e5d78c0d3eb",
   "metadata": {},
   "outputs": [],
   "source": [
    "import numpy as np\n",
    "import matplotlib.pyplot as plt\n",
    "from math import comb\n",
    "\n",
    "n = 10 \n",
    "p = 0.30 \n",
    "num_simulaciones = 100  \n",
    "U = np.random.uniform(0, 1, num_simulaciones)\n",
    "\n",
    "def binomial_pmf(n, k, p):\n",
    "    return comb(n, k) * (p**k) * ((1 - p)**(n - k))\n",
    "def binomial_inverse_transform(n, p, U):\n",
    "    F_k = 0 \n",
    "    k = 0\n",
    "    while True:\n",
    "        F_k += binomial_pmf(n, k, p) \n",
    "        if U <= F_k:\n",
    "            return k \n",
    "        k += 1\n",
    "compras_simuladas = [binomial_inverse_transform(n, p, u) for u in U]\n",
    "\n",
    "print(\"Número de clientes que realizaron una compra en cada simulación (día):\")\n",
    "print(compras_simuladas)\n",
    "plt.hist(compras_simuladas, bins=np.arange(min(compras_simuladas), max(compras_simuladas) + 1) - 0.5, edgecolor='black')\n",
    "plt.title(\"Simulación de número de compras diarias (Distribución Binomial)\")\n",
    "plt.xlabel(\"Número de compras\")\n",
    "plt.ylabel(\"Frecuencia\")\n",
    "plt.show()"
   ]
  }
 ],
 "metadata": {
  "kernelspec": {
   "display_name": "Python 3 (ipykernel)",
   "language": "python",
   "name": "python3"
  },
  "language_info": {
   "codemirror_mode": {
    "name": "ipython",
    "version": 3
   },
   "file_extension": ".py",
   "mimetype": "text/x-python",
   "name": "python",
   "nbconvert_exporter": "python",
   "pygments_lexer": "ipython3",
   "version": "3.12.2"
  }
 },
 "nbformat": 4,
 "nbformat_minor": 5
}
